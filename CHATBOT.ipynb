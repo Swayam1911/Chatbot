{
 "cells": [
  {
   "cell_type": "code",
   "execution_count": 1,
   "id": "426cc965",
   "metadata": {},
   "outputs": [
    {
     "name": "stderr",
     "output_type": "stream",
     "text": [
      "USER_AGENT environment variable not set, consider setting it to identify your requests.\n"
     ]
    },
    {
     "name": "stdout",
     "output_type": "stream",
     "text": [
      "Course: SCRATCH PROGRAMING\n",
      "Price: $30 per session\n",
      "Lessons: 16\n",
      "\n",
      "Course: MOBILE DEVELOPMENT\n",
      "Price: $30 per session\n",
      "Lessons: 24\n",
      "\n",
      "Course: CORE JAVA PROGRAMMING ONLINE\n",
      "Price: $30 per session\n",
      "Lessons: 41\n",
      "\n",
      "Course: ROBOTICS\n",
      "Price: $30 per session\n",
      "Lessons: 25\n",
      "\n",
      "Course: JAVASCRIPT\n",
      "Price: $30 per session\n",
      "Lessons: 18\n",
      "\n",
      "Course: NODE JS\n",
      "Price: $30 per session\n",
      "Lessons: 18\n",
      "\n",
      "Course: CLOUD COMPUTING ADVANCE-AWSDESCRIPTION\n",
      "Price: $35 per session\n",
      "Lessons: 18\n",
      "\n"
     ]
    }
   ],
   "source": [
    "#!/usr/bin/env python\n",
    "# coding: utf-8\n",
    "\n",
    "# In[31]:\n",
    "\n",
    "\n",
    "import re\n",
    "from langchain_community.document_loaders import WebBaseLoader\n",
    "\n",
    "# Load data from website\n",
    "url = \"https://brainlox.com/courses/category/technical\"\n",
    "loader = WebBaseLoader(url)\n",
    "\n",
    "# Extracted documents\n",
    "documents = loader.load()\n",
    "\n",
    "# Combine text from all extracted documents\n",
    "raw_text = \" \".join([doc.page_content for doc in documents])\n",
    "\n",
    "# Regular expression to extract course details\n",
    "pattern = re.findall(r'\\$(\\d+)per sessionLEARN (.*?)\\s+.*?(\\d+) LessonsView Details', raw_text)\n",
    "\n",
    "# Formatting extracted data\n",
    "courses = []\n",
    "for price, name, lessons in pattern:\n",
    "    courses.append(f\"Course: {name}\\nPrice: ${price} per session\\nLessons: {lessons}\\n\")\n",
    "\n",
    "# Print structured courses\n",
    "cleaned_courses = \"\\n\".join(courses)\n",
    "print(cleaned_courses)"
   ]
  },
  {
   "cell_type": "code",
   "execution_count": null,
   "id": "7787bf6b",
   "metadata": {},
   "outputs": [],
   "source": []
  }
 ],
 "metadata": {
  "kernelspec": {
   "display_name": "Python 3 (ipykernel)",
   "language": "python",
   "name": "python3"
  },
  "language_info": {
   "codemirror_mode": {
    "name": "ipython",
    "version": 3
   },
   "file_extension": ".py",
   "mimetype": "text/x-python",
   "name": "python",
   "nbconvert_exporter": "python",
   "pygments_lexer": "ipython3",
   "version": "3.9.12"
  }
 },
 "nbformat": 4,
 "nbformat_minor": 5
}
